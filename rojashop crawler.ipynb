{
 "cells": [
  {
   "cell_type": "code",
   "execution_count": 1,
   "id": "cd2cf4af",
   "metadata": {},
   "outputs": [],
   "source": [
    "from selenium.webdriver.common.by import By\n",
    "from selenium import webdriver\n",
    "from bs4 import BeautifulSoup\n",
    "from tqdm import tqdm\n",
    "import requests\n",
    "import pandas\n",
    "import time"
   ]
  },
  {
   "cell_type": "code",
   "execution_count": 2,
   "id": "5cd2523d",
   "metadata": {},
   "outputs": [],
   "source": [
    "user, comment_date, comments, product_link, product_code, product_price, product_name = [], [], [], [], [], [], []"
   ]
  },
  {
   "cell_type": "code",
   "execution_count": 3,
   "id": "7a527907",
   "metadata": {},
   "outputs": [
    {
     "name": "stderr",
     "output_type": "stream",
     "text": [
      "100%|██████████████████████████████████████████████████████████████████████████████████| 97/97 [09:49<00:00,  6.08s/it]\n"
     ]
    }
   ],
   "source": [
    "for i in tqdm(range(1,98)):\n",
    "    website = requests.get(\"https://rojashop.com/shop?onstock=true&order=hits&page=\"+str(i))\n",
    "    site_html = BeautifulSoup(website.text, \"html.parser\")\n",
    "    link = site_html.select(\"#productsRow > div > div > div > a\")\n",
    "    price = site_html.select(\"#productsRow > div > div > div > div.card-body > div > div > div.col > div > span.sale-price\")\n",
    "    name = site_html.select(\"#productsRow > div > div > div > a > span\")\n",
    "    for j in link:\n",
    "        product_link.append(j[\"href\"])\n",
    "        product_code.append(int(j[\"data-click-enhanced-id\"]))\n",
    "    for j in price:\n",
    "          product_price.append(j.text)\n",
    "    for j in name:\n",
    "          product_name.append(j.text)\n",
    "    time.sleep(5)"
   ]
  },
  {
   "cell_type": "code",
   "execution_count": 3,
   "id": "140d6ff5",
   "metadata": {},
   "outputs": [],
   "source": [
    "product_info = pandas.DataFrame({\"Product Name\":product_name, \"Product Code\":product_code, \"Product Price\":product_price, \"Product Link\":product_link})"
   ]
  },
  {
   "cell_type": "code",
   "execution_count": 4,
   "id": "73d832dd",
   "metadata": {},
   "outputs": [],
   "source": [
    "product_info.to_csv(r'd:\\goalearn\\task_2\\rojashop products.csv', index = None, encoding = \"utf-8-sig\")"
   ]
  },
  {
   "cell_type": "code",
   "execution_count": 14,
   "id": "3bfd9480",
   "metadata": {},
   "outputs": [
    {
     "name": "stderr",
     "output_type": "stream",
     "text": [
      "100%|████████████████████████████████████████████████████████████████████████████| 2341/2341 [4:13:46<00:00,  6.50s/it]\n"
     ]
    }
   ],
   "source": [
    "browser = webdriver.Chrome()\n",
    "num = 1\n",
    "for link in tqdm(product_link[1512:]):\n",
    "    browser.get(link)\n",
    "    try:\n",
    "        button = browser.find_element(By.CSS_SELECTOR,\"body > main > div > div > div.post_comments > div > div.read_more > button\")\n",
    "        while button.is_displayed():\n",
    "            button.click()\n",
    "            time.sleep(5)\n",
    "        check = 1\n",
    "    except:\n",
    "        try:\n",
    "            flag = browser.find_element(By.CSS_SELECTOR,\"body > main > div > div > div.post_comments > div > div.no_comments\")\n",
    "            if flag.is_displayed():\n",
    "                check = 0\n",
    "        except:\n",
    "            check = 1\n",
    "    if check:\n",
    "        person = browser.find_elements(By.CLASS_NAME,\"info_creator\")\n",
    "        date = browser.find_elements(By.CLASS_NAME,\"info_date\")\n",
    "        comment = browser.find_elements(By.CLASS_NAME,\"content_text\")\n",
    "        for i in person:\n",
    "            user.append(i.find_element(By.CSS_SELECTOR,\"span:nth-child(2)\").text)\n",
    "        for i in date:\n",
    "            comment_date.append(i.find_element(By.CSS_SELECTOR,\"span.ltr.d-inline-block\").text)\n",
    "        for i in comment:\n",
    "            comments.append(i.find_element(By.CSS_SELECTOR,\"p\").text)\n",
    "    if num % 100 == 0:\n",
    "        time.sleep(20)\n",
    "    else:\n",
    "        time.sleep(5)\n",
    "    num += 1\n",
    "browser.close()"
   ]
  },
  {
   "cell_type": "code",
   "execution_count": 15,
   "id": "8b820e6a",
   "metadata": {},
   "outputs": [],
   "source": [
    "comment_info = pandas.DataFrame({\"User\":user, \"Comment Date\":comment_date, \"Comment\":comments})"
   ]
  },
  {
   "cell_type": "code",
   "execution_count": 6,
   "id": "6209d9c5",
   "metadata": {},
   "outputs": [],
   "source": [
    "comment_info.to_csv(r'd:\\goalearn\\task_2\\rojashop comments.csv', index = None, encoding = \"utf-8-sig\")"
   ]
  },
  {
   "cell_type": "code",
   "execution_count": null,
   "id": "b3b6d7a8-d4fb-43c8-8d62-f2f0f444042c",
   "metadata": {},
   "outputs": [],
   "source": []
  }
 ],
 "metadata": {
  "kernelspec": {
   "display_name": "Python 3 (ipykernel)",
   "language": "python",
   "name": "python3"
  },
  "language_info": {
   "codemirror_mode": {
    "name": "ipython",
    "version": 3
   },
   "file_extension": ".py",
   "mimetype": "text/x-python",
   "name": "python",
   "nbconvert_exporter": "python",
   "pygments_lexer": "ipython3",
   "version": "3.11.1"
  },
  "vscode": {
   "interpreter": {
    "hash": "21d6cfd5e5eb8bc161c960a858fcbd92f684ec9bba4194bf59bd702893f94fd4"
   }
  }
 },
 "nbformat": 4,
 "nbformat_minor": 5
}
