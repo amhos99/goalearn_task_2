{
 "cells": [
  {
   "cell_type": "code",
   "execution_count": 1,
   "id": "eec0d68b",
   "metadata": {},
   "outputs": [],
   "source": [
    "from selenium.webdriver.common.by import By\n",
    "from selenium import webdriver\n",
    "from bs4 import BeautifulSoup\n",
    "from tqdm import tqdm\n",
    "import requests\n",
    "import pandas\n",
    "import math\n",
    "import time"
   ]
  },
  {
   "cell_type": "code",
   "execution_count": 2,
   "id": "2008094d",
   "metadata": {},
   "outputs": [],
   "source": [
    "product_link, product_name, product_price, comment_date, user, comments, comment_link = [], [], [], [], [], [],[]\n",
    "temp1 = 0"
   ]
  },
  {
   "cell_type": "code",
   "execution_count": 5,
   "id": "9ff7c31d",
   "metadata": {},
   "outputs": [
    {
     "name": "stderr",
     "output_type": "stream",
     "text": [
      "100%|████████████████████████████████████████████████████████████████████████████████| 364/364 [39:03<00:00,  6.44s/it]\n"
     ]
    }
   ],
   "source": [
    "num = 1\n",
    "for j in tqdm(range(1,365)):\n",
    "    website = requests.get(\"https://www.jetpens.com/Pens/ct/1318?pn=\"+str(j))\n",
    "    site_html = BeautifulSoup(website.text, \"html.parser\")\n",
    "    name = site_html.select(\"body > div.margin-sm-l-10.margin-sm-r-10 > div > div > div.pure-u-1.pure-u-sm-7-12.pure-u-md-2-3.pure-u-lg-3-4 > div.products.pure-g.margin-tb-10 > div > div:nth-child(5) > a\")\n",
    "    price = site_html.select(\"body > div.margin-sm-l-10.margin-sm-r-10 > div > div > div.pure-u-1.pure-u-sm-7-12.pure-u-md-2-3.pure-u-lg-3-4 > div.products.pure-g.margin-tb-10 > div > div:nth-child(6) > span\")\n",
    "    for i in name:\n",
    "        product_link.append(i[\"href\"])\n",
    "        product_name.append(i.text)\n",
    "    for i in price:\n",
    "        product_price.append(i.text)\n",
    "    num += 1\n",
    "    time.sleep(3)"
   ]
  },
  {
   "cell_type": "code",
   "execution_count": 4,
   "id": "63442149",
   "metadata": {},
   "outputs": [],
   "source": [
    "product_info = pandas.DataFrame({\"Product Name\":product_name, \"Product Price\":product_price, \"Product Link\":product_link})"
   ]
  },
  {
   "cell_type": "code",
   "execution_count": 7,
   "id": "c0f0e868",
   "metadata": {
    "tags": []
   },
   "outputs": [],
   "source": [
    "product_info.to_csv(r'd:\\goalearn\\task_2\\jetpens products.csv',index = None, encoding = \"utf-8\")"
   ]
  },
  {
   "cell_type": "code",
   "execution_count": 7,
   "id": "2c8d94d1",
   "metadata": {},
   "outputs": [
    {
     "name": "stderr",
     "output_type": "stream",
     "text": [
      "100%|██████████████████████████████████████████████████████████████████████████| 8712/8712 [00:00<00:00, 873804.98it/s]\n"
     ]
    }
   ],
   "source": [
    "for i in tqdm(product_link):\n",
    "    link = i.replace(\"pd\", \"reviews\")\n",
    "    comment_link.append(link)    "
   ]
  },
  {
   "cell_type": "code",
   "execution_count": 131,
   "id": "3bc0779b",
   "metadata": {},
   "outputs": [
    {
     "name": "stderr",
     "output_type": "stream",
     "text": [
      "100%|████████████████████████████████████████████████████████████████████████████████████| 1/1 [00:03<00:00,  3.80s/it]\n",
      "100%|██████████████████████████████████████████████████████████████████████████████████| 14/14 [00:52<00:00,  3.76s/it]\n"
     ]
    }
   ],
   "source": [
    "for link in range(temp1,len(comment_link)):\n",
    "    website = requests.get(comment_link[link])\n",
    "    site_html = BeautifulSoup(website.text, \"html.parser\")\n",
    "    page = site_html.select(\"body > div.margin-sm-l-10.margin-sm-r-10 > div > div:nth-child(2) > div > div.pure-u-3-5 > div\")\n",
    "    temp = str(page).split()\n",
    "    if temp != \"[]\":\n",
    "        page = math.ceil(int(temp[1].split(\">\")[1])/10)\n",
    "    else:\n",
    "        page = 0\n",
    "    if page > 0:\n",
    "        for i in tqdm(range(1,page+1)):\n",
    "            website = requests.get(comment_link[link] + \"?pn=\"+str(i))\n",
    "            site_html = BeautifulSoup(website.text, \"html.parser\")\n",
    "            date = site_html.select(\"body > div.margin-sm-l-10.margin-sm-r-10 > div > div.margin-tb-10 > div > div > div > div.pure-u-1.pure-u-md-3-5.padding-r-15 > div.pure-g > div.pure-u-1-4.horizontal-right > div.font-gray-1\")\n",
    "            person = site_html.select(\"body > div.margin-sm-l-10.margin-sm-r-10 > div > div.margin-tb-10 > div > div > div > div.pure-u-1.pure-u-md-2-5.horizontal-rights.padding-l-15 > div:nth-child(1)\")\n",
    "            comment = site_html.select(\"body > div.margin-sm-l-10.margin-sm-r-10 > div > div.margin-tb-10 > div > div > div > div.pure-u-1.pure-u-md-3-5.padding-r-15 > div.margin-tb-10\")\n",
    "            for j in date:\n",
    "                comment_date.append(j.text)\n",
    "            for j in person:\n",
    "                user.append(j.text)\n",
    "            for j in comment:\n",
    "                comments.append(j.text)\n",
    "            time.sleep(2)\n",
    "    time.sleep(3)\n",
    "    temp1 += 1\n",
    "    if temp1 % 10 == 0:\n",
    "        break"
   ]
  },
  {
   "cell_type": "code",
   "execution_count": 133,
   "id": "8a0ddf30",
   "metadata": {},
   "outputs": [],
   "source": [
    "comment_info = pandas.DataFrame({\"User\":user, \"Comment Date\":comment_date, \"Comment\":comments})"
   ]
  },
  {
   "cell_type": "code",
   "execution_count": 8,
   "id": "2b896394",
   "metadata": {},
   "outputs": [],
   "source": [
    "comment_info.to_csv(r'd:\\goalearn\\task_2\\jetpens comments.csv',index = None, encoding = \"utf-8\")"
   ]
  },
  {
   "cell_type": "code",
   "execution_count": null,
   "id": "f4477f22-79ef-4833-9fce-a7a5d2e04723",
   "metadata": {},
   "outputs": [],
   "source": []
  }
 ],
 "metadata": {
  "kernelspec": {
   "display_name": "Python 3 (ipykernel)",
   "language": "python",
   "name": "python3"
  },
  "language_info": {
   "codemirror_mode": {
    "name": "ipython",
    "version": 3
   },
   "file_extension": ".py",
   "mimetype": "text/x-python",
   "name": "python",
   "nbconvert_exporter": "python",
   "pygments_lexer": "ipython3",
   "version": "3.11.1"
  }
 },
 "nbformat": 4,
 "nbformat_minor": 5
}
